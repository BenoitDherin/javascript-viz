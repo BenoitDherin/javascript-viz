{
 "metadata": {
  "name": ""
 },
 "nbformat": 3,
 "nbformat_minor": 0,
 "worksheets": [
  {
   "cells": [
    {
     "cell_type": "markdown",
     "metadata": {},
     "source": [
      "## Introduction to plotting (in IPython) with JavaScript\n",
      "\n",
      "Web programming requires integrating multiple langauges (HTML, JavaScritp, CSS) in the context of an appropriately configured web browser. \n",
      "\n",
      "IPython allows us to define blocks in multiple languages all on one page, integrated in a web page where we can see our results directly. For now, you can think of each cell as a different \"file.\"\n",
      "\n",
      "This notebook starts demonstrating some d3, which is the low-level library that supports the plotting that many science, news, and policy organizations are now using. As we'll see, though, it's nice to use a high-level wraper when you're getting started! You can learn more about d3 on [the project website](http://d3js.org/), including one of the niftier example browsers!\n",
      "\n",
      "First, we'll load some JavaScript libraries using [require.js](http://requirejs.org/):"
     ]
    },
    {
     "cell_type": "code",
     "collapsed": false,
     "input": [
      "%%javascript\n",
      "// require.js is a modern, safe way to load javascript libraries\n",
      "// Normally you need to load require.js, but IPython has done this already\n",
      "// In fact, d3 won't work outside of require (if d3 can see require.js)\n",
      "require.config({\n",
      "  paths: {\n",
      "    d3: \"http://d3js.org/d3.v3.min\",\n",
      "    queue: \"http://d3js.org/queue.v1.min\",\n",
      "    topojson: \"http://d3js.org/topojson.v1.min\"\n",
      "  }\n",
      "});"
     ],
     "language": "python",
     "metadata": {},
     "outputs": []
    },
    {
     "cell_type": "markdown",
     "metadata": {},
     "source": [
      "This is how you use the libraries now that they're loaded. Note that `console.log` will display in the JavaScript console (which will be under Developer tools). Heya! You're a web Developer!"
     ]
    },
    {
     "cell_type": "code",
     "collapsed": false,
     "input": [
      "%%javascript\n",
      "\n",
      "require([\"d3\", \"queue\", \"topojson\"], function(d3, queue, topojson) {\n",
      "  console.log(\"d3:\", d3.version);\n",
      "  console.log(\"queue:\", queue.version);\n",
      "  console.log(\"topojson:\", topojson.version);\n",
      "});"
     ],
     "language": "python",
     "metadata": {},
     "outputs": []
    },
    {
     "cell_type": "markdown",
     "metadata": {},
     "source": [
      "The following loads some style information into the page (notice that the style tag declares that this is text/css):"
     ]
    },
    {
     "cell_type": "code",
     "collapsed": false,
     "input": [
      "%%html\n",
      "<style type=\"text/css\">\n",
      "\n",
      ".counties {\n",
      "  fill: none;\n",
      "}\n",
      "\n",
      ".states {\n",
      "  fill: none;\n",
      "  stroke: #fff;\n",
      "  stroke-linejoin: round;\n",
      "}\n",
      "\n",
      ".q0-9 { fill:rgb(247,251,255); }\n",
      ".q1-9 { fill:rgb(222,235,247); }\n",
      ".q2-9 { fill:rgb(198,219,239); }\n",
      ".q3-9 { fill:rgb(158,202,225); }\n",
      ".q4-9 { fill:rgb(107,174,214); }\n",
      ".q5-9 { fill:rgb(66,146,198); }\n",
      ".q6-9 { fill:rgb(33,113,181); }\n",
      ".q7-9 { fill:rgb(8,81,156); }\n",
      ".q8-9 { fill:rgb(8,48,107); }\n",
      "\n",
      "</style>"
     ],
     "language": "python",
     "metadata": {},
     "outputs": []
    },
    {
     "cell_type": "markdown",
     "metadata": {},
     "source": [
      "And this is all of the static HTML we'll create!"
     ]
    },
    {
     "cell_type": "code",
     "collapsed": false,
     "input": [
      "%%html\n",
      "<p>Behold, a div that can contain a plot:</p>\n",
      "<div id=\"county_map\" style=\"height:600px; width:100%\"></div>"
     ],
     "language": "python",
     "metadata": {},
     "outputs": []
    },
    {
     "cell_type": "markdown",
     "metadata": {},
     "source": [
      "And finally, here's the script to make our plot. Note that "
     ]
    },
    {
     "cell_type": "code",
     "collapsed": false,
     "input": [
      "%%javascript\n",
      "require([\"d3\", \"queue\", \"topojson\"], function(d3, queue, topojson) {\n",
      "    var width = 960,\n",
      "        height = 500;\n",
      "\n",
      "    var rateById = d3.map();\n",
      "\n",
      "    var quantize = d3.scale.quantize()\n",
      "        .domain([0, .15])\n",
      "        .range(d3.range(9).map(function(i) { return \"q\" + i + \"-9\"; }));\n",
      "\n",
      "    var path = d3.geo.path();\n",
      "\n",
      "    // #county_map is the CSS selector that targets the div we defined in the above cell\n",
      "    var svg = d3.select('#county_map').append(\"svg\")\n",
      "        .attr(\"width\", width)\n",
      "        .attr(\"height\", height);\n",
      "\n",
      "    // Queue allows us to load multiple data sources in parallel\n",
      "    queue()\n",
      "        // We can get data from the web (especially if it doesn't tend to change)\n",
      "        // Thanks @rdhyee!\n",
      "        .defer(d3.json, \"http://mashupguide.net/wwod14/us.json\")\n",
      "        // And IPython also makes local files available via http\n",
      "        .defer(d3.tsv, \"files/unemployment.tsv\", function(d) { rateById.set(d.id, +d.rate); })\n",
      "        .await(ready);\n",
      "\n",
      "    function ready(error, us) {\n",
      "      svg.append(\"g\")\n",
      "          .attr(\"class\", \"counties\")\n",
      "        .selectAll(\"path\")\n",
      "          .data(topojson.feature(us, us.objects.counties).features)\n",
      "        .enter().append(\"path\")\n",
      "          .attr(\"class\", function(d) { return quantize(rateById.get(d.id)); })\n",
      "          .attr(\"d\", path);\n",
      "\n",
      "      svg.append(\"path\")\n",
      "          .datum(topojson.mesh(us, us.objects.states, function(a, b) { return a !== b; }))\n",
      "          .attr(\"class\", \"states\")\n",
      "          .attr(\"d\", path);\n",
      "    }\n",
      "    \n",
      "})"
     ],
     "language": "python",
     "metadata": {},
     "outputs": []
    },
    {
     "cell_type": "markdown",
     "metadata": {},
     "source": [
      "But the map isn't interactive or anything! In the next notebook, we'll look at some higher level libraries that allow us to generate maps with interactive features by default."
     ]
    },
    {
     "cell_type": "code",
     "collapsed": false,
     "input": [],
     "language": "python",
     "metadata": {},
     "outputs": []
    }
   ],
   "metadata": {}
  }
 ]
}