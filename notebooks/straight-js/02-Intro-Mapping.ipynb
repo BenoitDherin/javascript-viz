{
 "metadata": {
  "name": ""
 },
 "nbformat": 3,
 "nbformat_minor": 0,
 "worksheets": [
  {
   "cells": [
    {
     "cell_type": "markdown",
     "metadata": {},
     "source": [
      "[Mapbox](https://www.mapbox.com/) now manages the [leaflet.js](http://leafletjs.com/) project, along with [TileMill](https://www.mapbox.com/tilemill/). These are the core technologies that I'd recommend to start building awesome maps. Mapbox will host maps for you that you can update with a combination of javascript calls and via the interactive website.\n",
      "\n",
      "[Google maps](https://developers.google.com/maps/documentation/javascript/) also remains a strong option, though not as focused on customization.\n",
      "\n",
      "Also - check out these awesome map diffing features on GitHub!\n",
      "\n",
      " - [Explore the history of markers for restaurants](https://github.com/DU-GIS/Geojson_Data/blob/master/Restaurants.geojson)\n",
      " - [See how congressional redistricting looks](https://github.com/benbalter/congressional-districts/commit/2233c76ca5bb059582d796f053775d8859198ec5#diff-85d2c1b78193e963475250414e57940b)\n",
      " \n",
      " Ultimately, you will likely want to programmatically generate [GeoJSON](http://geojson.org/)."
     ]
    },
    {
     "cell_type": "code",
     "collapsed": false,
     "input": [
      "%%file static/berkeley-map.html\n",
      "\n",
      "<!DOCTYPE html>\n",
      "<html>\n",
      "    <head>\n",
      "    <meta charset=utf-8 />\n",
      "    <title>Initially Position Map With Geocode</title>\n",
      "    \n",
      "    <meta name='viewport' content='width=device-width, initial-scale=1.0, maximum-scale=1.0, user-scalable=no' />\n",
      "    <script src='https://api.tiles.mapbox.com/mapbox.js/v1.6.1/mapbox.js'></script>\n",
      "    <link href='https://api.tiles.mapbox.com/mapbox.js/v1.6.1/mapbox.css' rel='stylesheet' />\n",
      "    \n",
      "    <style>\n",
      "      body { margin:0; padding:0; }\n",
      "      #map { position:absolute; top:0; bottom:0; width:100%; }\n",
      "    </style>\n",
      "    </head>\n",
      "    <body>\n",
      "        <div id='map'></div>\n",
      "        <script>\n",
      "        // You should get your own ID and put it here!\n",
      "        var geocoder = L.mapbox.geocoder('examples.map-vyofok3q'),\n",
      "            map = L.mapbox.map('map', 'examples.map-vyofok3q')\n",
      "        \n",
      "        geocoder.query('Berkeley, CA', showMap);\n",
      "        \n",
      "        function showMap(err, data) {\n",
      "             map.fitBounds(data.lbounds);\n",
      "        }\n",
      "        </script>\n",
      "    </body>\n",
      "</html>"
     ],
     "language": "python",
     "metadata": {},
     "outputs": []
    },
    {
     "cell_type": "code",
     "collapsed": false,
     "input": [],
     "language": "python",
     "metadata": {},
     "outputs": []
    }
   ],
   "metadata": {}
  }
 ]
}