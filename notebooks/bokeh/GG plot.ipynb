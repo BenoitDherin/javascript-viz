{
 "metadata": {
  "name": "",
  "signature": "sha256:919dbb7d836c508f22599ff0ebe738700da0c69c701216686c7f16e627a7c3f5"
 },
 "nbformat": 3,
 "nbformat_minor": 0,
 "worksheets": [
  {
   "cells": [
    {
     "cell_type": "code",
     "collapsed": false,
     "input": [
      "from ggplot import *\n",
      "from bokeh import pyplot\n",
      "from bokeh import plotting\n",
      "import matplotlib.pyplot as plt"
     ],
     "language": "python",
     "metadata": {},
     "outputs": []
    },
    {
     "cell_type": "code",
     "collapsed": false,
     "input": [
      "plotting.output_notebook()"
     ],
     "language": "python",
     "metadata": {},
     "outputs": []
    },
    {
     "cell_type": "markdown",
     "metadata": {},
     "source": [
      "## Simple geom_line() using meat (a pandas dataframe) from ggplot"
     ]
    },
    {
     "cell_type": "code",
     "collapsed": false,
     "input": [
      "g = ggplot(aes(x='date', y='beef'), data=meat) + \\\n",
      "    geom_line()\n",
      "\n",
      "g.draw()\n",
      "\n",
      "plt.title(\"Line ggplot-based plot in Bokeh.\")\n",
      "\n",
      "pyplot.show_bokeh(plt.gcf())"
     ],
     "language": "python",
     "metadata": {},
     "outputs": []
    },
    {
     "cell_type": "markdown",
     "metadata": {},
     "source": [
      "## Step plot using pandas directly"
     ]
    },
    {
     "cell_type": "code",
     "collapsed": false,
     "input": [
      "import numpy as np\n",
      "import pandas as pd\n",
      "\n",
      "df = pd.DataFrame({\n",
      "    \"x\": range(100),\n",
      "    \"y\": np.random.choice([-1, 1], 100)\n",
      "})\n",
      "\n",
      "df.y = df.y.cumsum()"
     ],
     "language": "python",
     "metadata": {},
     "outputs": []
    },
    {
     "cell_type": "markdown",
     "metadata": {},
     "source": [
      "So what's a dataframe now?"
     ]
    },
    {
     "cell_type": "code",
     "collapsed": false,
     "input": [
      "df.head()"
     ],
     "language": "python",
     "metadata": {},
     "outputs": []
    },
    {
     "cell_type": "code",
     "collapsed": false,
     "input": [
      "g = ggplot(aes(x='x', y='y'), data=df) + \\\n",
      "    geom_step()\n",
      "g.draw()\n",
      "\n",
      "plt.title(\"Step ggplot-based plot in Bokeh.\")\n",
      "\n",
      "pyplot.show_bokeh(plt.gcf())"
     ],
     "language": "python",
     "metadata": {},
     "outputs": []
    },
    {
     "cell_type": "markdown",
     "metadata": {},
     "source": [
      "## And we can have filters on how the lines are displayed"
     ]
    },
    {
     "cell_type": "code",
     "collapsed": false,
     "input": [
      "g = ggplot(diamonds, aes(x='price', color='cut')) + \\\n",
      "    geom_density()\n",
      "\n",
      "g.draw()\n",
      "\n",
      "plt.title(\"xkcd-ggplot-mpl based plot in Bokeh\")\n",
      "\n",
      "pyplot.show_bokeh(plt.gcf(), xkcd=True)"
     ],
     "language": "python",
     "metadata": {},
     "outputs": []
    },
    {
     "cell_type": "code",
     "collapsed": false,
     "input": [],
     "language": "python",
     "metadata": {},
     "outputs": []
    }
   ],
   "metadata": {}
  }
 ]
}