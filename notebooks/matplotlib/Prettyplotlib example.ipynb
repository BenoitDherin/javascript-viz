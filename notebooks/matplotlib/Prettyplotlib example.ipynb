{
 "metadata": {
  "name": "",
  "signature": "sha256:2f99b451a424b894b743df6935fd78d66228caf10064cb2d22d73526bf4c505b"
 },
 "nbformat": 3,
 "nbformat_minor": 0,
 "worksheets": [
  {
   "cells": [
    {
     "cell_type": "markdown",
     "metadata": {},
     "source": [
      "I include this example here using \"native\" matplotlib graphics because prettyplotlib and bokeh have an incompatability."
     ]
    },
    {
     "cell_type": "code",
     "collapsed": false,
     "input": [
      "import numpy as np\n",
      "import matplotlib.pyplot as plt\n",
      "# from bokeh import plotting, pyplot\n",
      "import prettyplotlib as ppl"
     ],
     "language": "python",
     "metadata": {},
     "outputs": []
    },
    {
     "cell_type": "code",
     "collapsed": true,
     "input": [
      "# plotting.output_notebook()"
     ],
     "language": "python",
     "metadata": {},
     "outputs": []
    },
    {
     "cell_type": "code",
     "collapsed": false,
     "input": [
      "%matplotlib inline"
     ],
     "language": "python",
     "metadata": {},
     "outputs": []
    },
    {
     "cell_type": "code",
     "collapsed": false,
     "input": [
      "# \"Sample data\" on trojans vs. spartans\n",
      "n1   = 500\n",
      "n2   = 150\n",
      "# amplitude\n",
      "A1 = np.array([ 3.5,  7.2])\n",
      "A2 = np.array([ 1.5,  2.5])\n",
      "\n",
      "# offset\n",
      "o1 = np.array([ 1.1,  4.5])\n",
      "o2 = np.array([-2.5, -0.5])\n",
      "\n",
      "# rotation matrix\n",
      "r1  = np.array([[ 0.92, -0.39],\n",
      "                [ 0.39,  0.92]]) # 22.5' \n",
      "r2  = np.array([[ 0.39,  0.92],\n",
      "                [-0.92,  0.39]]) # 67.5'\n",
      "\n",
      "s  = np.dot(np.random.randn(n1,2) * A1, r1) + o1\n",
      "t  = np.dot(np.random.randn(n2,2) * A2, r2) + o2\n",
      "\n",
      "# New data! object significance\n",
      "base = 10\n",
      "s1 = base + 20*np.random.randint(1,5,size=n1)\n",
      "s2 = base + 20*np.random.randint(1,5,size=n2)"
     ],
     "language": "python",
     "metadata": {},
     "outputs": []
    },
    {
     "cell_type": "code",
     "collapsed": false,
     "input": [
      "plt.figure(figsize=(8,6))\n",
      "ppl.scatter(t[:,0], t[:,1], s=s2, c='b', alpha=0.5, linewidths=0, label='Trojans')\n",
      "ppl.scatter(s[:,0], s[:,1], s=s1, c='r', alpha=0.5, linewidths=0,label='Spartans')\n",
      "ppl.legend(loc='upper left')\n",
      "plt.xlabel('ferocity')\n",
      "plt.ylabel('empathy')\n",
      "plt.title('Trojan and Spartan ferocity and empathy', fontsize=16)"
     ],
     "language": "python",
     "metadata": {},
     "outputs": []
    },
    {
     "cell_type": "code",
     "collapsed": false,
     "input": [],
     "language": "python",
     "metadata": {},
     "outputs": []
    }
   ],
   "metadata": {}
  }
 ]
}