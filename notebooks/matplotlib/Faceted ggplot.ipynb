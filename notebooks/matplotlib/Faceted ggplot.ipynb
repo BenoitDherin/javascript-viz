{
 "metadata": {
  "name": "",
  "signature": "sha256:f063847ac3240c9ca7dd41d3b30023dd04c8845e7b8e1da25f1f91da3c23d013"
 },
 "nbformat": 3,
 "nbformat_minor": 0,
 "worksheets": [
  {
   "cells": [
    {
     "cell_type": "code",
     "collapsed": false,
     "input": [
      "import pandas as pd\n",
      "from ggplot import *"
     ],
     "language": "python",
     "metadata": {},
     "outputs": []
    },
    {
     "cell_type": "code",
     "collapsed": false,
     "input": [
      "%matplotlib inline"
     ],
     "language": "python",
     "metadata": {},
     "outputs": []
    },
    {
     "cell_type": "code",
     "collapsed": false,
     "input": [
      "# meat is included in ggplot\n",
      "meat_lng = pd.melt(meat, id_vars=['date'])\n",
      "# meat_lng = meat_lng.loc[~ meat_lng.value.isnull(),]\n",
      "\n",
      "ggplot(aes(x='date', y='value'), data=meat_lng) + \\\n",
      "    geom_point(color='lightblue') + \\\n",
      "    stat_smooth(span=.15, color='red', se=True) + \\\n",
      "    ggtitle(\"Beef: It's What's for Dinner\") + \\\n",
      "    facet_wrap(\"variable\")\n",
      "    \n",
      "    # These *really* make things look like crap:\n",
      "    # xlab(\"Date\") + \\\n",
      "    # ylab(\"Head of Cattle Slaughtered\") + \\"
     ],
     "language": "python",
     "metadata": {},
     "outputs": []
    },
    {
     "cell_type": "code",
     "collapsed": false,
     "input": [],
     "language": "python",
     "metadata": {},
     "outputs": []
    }
   ],
   "metadata": {}
  }
 ]
}