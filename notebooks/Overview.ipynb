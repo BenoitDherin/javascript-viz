{
 "metadata": {
  "name": "",
  "signature": "sha256:f2d409fe9dcc266654245b276830cbdf8113d96bb612f618a90f4097708ea7c8"
 },
 "nbformat": 3,
 "nbformat_minor": 0,
 "worksheets": [
  {
   "cells": [
    {
     "cell_type": "markdown",
     "metadata": {},
     "source": [
      "See also [this notebook](https://www.wakari.io/sharing/bundle/ijstokes/pyvis-3h) for a set of comparison visualizations.\n"
     ]
    }
   ],
   "metadata": {}
  }
 ]
}