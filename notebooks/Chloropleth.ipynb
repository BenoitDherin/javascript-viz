{
 "metadata": {
  "name": ""
 },
 "nbformat": 3,
 "nbformat_minor": 0,
 "worksheets": [
  {
   "cells": [
    {
     "cell_type": "code",
     "collapsed": false,
     "input": [
      "%%javascript\n",
      "// This is a modern, safe way to load javascript libraries\n",
      "// Normally you need to load require.js, but IPython has done this already\n",
      "// In fact, d3 won't work outside of require (if d3 can see require.js)\n",
      "require.config({\n",
      "  paths: {\n",
      "    d3: \"http://d3js.org/d3.v3.min\",\n",
      "    queue: \"http://d3js.org/queue.v1.min\",\n",
      "    topojson: \"http://d3js.org/topojson.v1.min\"\n",
      "  }\n",
      "});\n",
      "\n",
      "// This is how you use the libraries now\n",
      "require([\"d3\", \"queue\", \"topojson\"], function(d3, queue, topojson) {\n",
      "  console.log(\"d3:\", d3.version);\n",
      "  console.log(\"queue:\", queue.version);\n",
      "  console.log(\"topojson:\", topojson.version);\n",
      "});"
     ],
     "language": "python",
     "metadata": {},
     "outputs": []
    },
    {
     "cell_type": "code",
     "collapsed": false,
     "input": [
      "%%html\n",
      "<style type=\"text/css\">\n",
      "\n",
      ".counties {\n",
      "  fill: none;\n",
      "}\n",
      "\n",
      ".states {\n",
      "  fill: none;\n",
      "  stroke: #fff;\n",
      "  stroke-linejoin: round;\n",
      "}\n",
      "\n",
      ".q0-9 { fill:rgb(247,251,255); }\n",
      ".q1-9 { fill:rgb(222,235,247); }\n",
      ".q2-9 { fill:rgb(198,219,239); }\n",
      ".q3-9 { fill:rgb(158,202,225); }\n",
      ".q4-9 { fill:rgb(107,174,214); }\n",
      ".q5-9 { fill:rgb(66,146,198); }\n",
      ".q6-9 { fill:rgb(33,113,181); }\n",
      ".q7-9 { fill:rgb(8,81,156); }\n",
      ".q8-9 { fill:rgb(8,48,107); }\n",
      "\n",
      "</style>"
     ],
     "language": "python",
     "metadata": {},
     "outputs": []
    },
    {
     "cell_type": "code",
     "collapsed": false,
     "input": [
      "%%html\n",
      "<div id=\"county_map\" style=\"height:600px; width:100%\"></div>"
     ],
     "language": "python",
     "metadata": {},
     "outputs": []
    },
    {
     "cell_type": "code",
     "collapsed": false,
     "input": [
      "%%javascript\n",
      "require([\"d3\", \"queue\", \"topojson\"], function(d3, queue, topojson) {\n",
      "  console.log(d3.version);\n",
      "  console.log(queue.version);\n",
      "  console.log(topojson.version);\n",
      "\n",
      "\n",
      "    var width = 960,\n",
      "        height = 500;\n",
      "\n",
      "    var rateById = d3.map();\n",
      "\n",
      "    var quantize = d3.scale.quantize()\n",
      "        .domain([0, .15])\n",
      "        .range(d3.range(9).map(function(i) { return \"q\" + i + \"-9\"; }));\n",
      "\n",
      "    var path = d3.geo.path();\n",
      "\n",
      "    var svg = d3.select('#county_map').append(\"svg\")\n",
      "        .attr(\"width\", width)\n",
      "        .attr(\"height\", height);\n",
      "\n",
      "    queue()\n",
      "        .defer(d3.json, \"http://mashupguide.net/wwod14/us.json\")\n",
      "        .defer(d3.tsv, \"files/unemployment.tsv\", function(d) { rateById.set(d.id, +d.rate); })\n",
      "        .await(ready);\n",
      "\n",
      "    function ready(error, us) {\n",
      "      svg.append(\"g\")\n",
      "          .attr(\"class\", \"counties\")\n",
      "        .selectAll(\"path\")\n",
      "          .data(topojson.feature(us, us.objects.counties).features)\n",
      "        .enter().append(\"path\")\n",
      "          .attr(\"class\", function(d) { return quantize(rateById.get(d.id)); })\n",
      "          .attr(\"d\", path);\n",
      "\n",
      "      svg.append(\"path\")\n",
      "          .datum(topojson.mesh(us, us.objects.states, function(a, b) { return a !== b; }))\n",
      "          .attr(\"class\", \"states\")\n",
      "          .attr(\"d\", path);\n",
      "    }\n",
      "    \n",
      "})"
     ],
     "language": "python",
     "metadata": {},
     "outputs": []
    },
    {
     "cell_type": "code",
     "collapsed": false,
     "input": [],
     "language": "python",
     "metadata": {},
     "outputs": []
    }
   ],
   "metadata": {}
  }
 ]
}